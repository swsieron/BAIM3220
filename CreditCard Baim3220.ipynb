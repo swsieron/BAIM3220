{
 "cells": [
  {
   "cell_type": "markdown",
   "metadata": {
    "id": "_J93T_fKBRBB"
   },
   "source": [
    "Organize your table into teams. Normally for something like this you organize into [red and blue teams](https://en.wikipedia.org/wiki/Red_team) but I guess we should probably do black and gold teams, huh? "
   ]
  },
  {
   "cell_type": "markdown",
   "metadata": {
    "id": "h4QV02pmBp8z"
   },
   "source": [
    "### Business logic \n",
    "\n",
    "- You work for a credit card company\n",
    "- You want to avoid fraudulent transactions.\n",
    "- One way to avoid fraudulent transactions is to ensure that a customers name, number and address match the records your database\n",
    "- So when the person goes to make a transaction online, if they give an address or name that does not match the number, you can reject the transaction.\n",
    "- Write a function `is_ok` which returns `True` if the name, number and address from a transaction match the record in your database. And false otherwise."
   ]
  },
  {
   "cell_type": "markdown",
   "metadata": {
    "id": "iQvqG7SgAtgo"
   },
   "source": [
    "Start off by finishing the function. Your code should fail the test until you fix it."
   ]
  },
  {
   "cell_type": "code",
   "execution_count": 54,
   "metadata": {
    "id": "8zF-vTn8_pWv"
   },
   "outputs": [],
   "source": [
    "def match(databaseRecord: dict, transactionRecord: dict) -> bool:\n",
    "# Transaction Checking    \n",
    "    if \"name\" not in transactionRecord:\n",
    "        raise Exception(\"name key must exist in the dictionary\")\n",
    "    if \"number\" not in transactionRecord:\n",
    "        raise Exception(\"number key must exist in the dictionary\")\n",
    "    if \"address\" not in transactionRecord:\n",
    "        raise Exception(\"address key must exist in the dictionary\")\n",
    "    if transactionRecord[\"name\"] == \"\":\n",
    "        raise Exception(\"name value must exist\")\n",
    "    if transactionRecord[\"number\"] == \"\":\n",
    "        raise Exception(\"number value must exist\")\n",
    "    if transactionRecord[\"address\"] == \"\":\n",
    "        raise Exception(\"address value must exist\")\n",
    "    if not isinstance(transactionRecord[\"name\"], str):\n",
    "        raise Exception(\"name value must be a string\")\n",
    "    if not isinstance(transactionRecord[\"address\"], str):\n",
    "        raise Exception(\"address value must be a string\")\n",
    "    if not isinstance(transactionRecord[\"number\"], str):\n",
    "        raise Exception(\"number value must be a string\")\n",
    "# Database Checking\n",
    "    if \"name\" not in databaseRecord:\n",
    "        raise Exception(\"name key must exist in the dictionary\")\n",
    "    if \"number\" not in databaseRecord:\n",
    "        raise Exception(\"number key must exist in the dictionary\")\n",
    "    if \"address\" not in databaseRecord:\n",
    "        raise Exception(\"address key must exist in the dictionary\")\n",
    "    if databaseRecord[\"name\"] == \"\":\n",
    "        raise Exception(\"name value must exist\")\n",
    "    if databaseRecord[\"number\"] == \"\":\n",
    "        raise Exception(\"number value must exist\")\n",
    "    if databaseRecord[\"address\"] == \"\":\n",
    "        raise Exception(\"address value must exist\")\n",
    "    if not isinstance(databaseRecord[\"name\"], str):\n",
    "        raise Exception(\"name value must be a string\")\n",
    "    if not isinstance(databaseRecord[\"address\"], str):\n",
    "        raise Exception(\"address value must be a string\")\n",
    "    if not isinstance(databaseRecord[\"number\"], str):\n",
    "        raise Exception(\"number value must be a string\")\n",
    "    if databaseRecord[\"name\"] == databaseRecord[\"number\"] == databaseRecord[\"address\"]:\n",
    "        raise Exception(\"name, number, and address cannot all be the same value\")\n",
    "    if databaseRecord[\"name\"] == databaseRecord[\"number\"]:\n",
    "        raise Exception(\"name and number cannot be the same value\")\n",
    "    if databaseRecord[\"name\"] == databaseRecord[\"address\"]:\n",
    "        raise Exception(\"name and address cannot be the same value\")\n",
    "    if databaseRecord[\"number\"] == databaseRecord[\"address\"]:\n",
    "        raise Exception(\"number and address cannot be the same value\")\n",
    "\n",
    "    \n",
    "    if ((databaseRecord[\"name\"]).upper()).replace(\" \", \"\") == ((transactionRecord[\"name\"]).upper()).replace(\" \", \"\"):\n",
    "        if ((databaseRecord[\"number\"]).upper()).replace(\" \", \"\") == ((transactionRecord[\"number\"]).upper()).replace(\" \", \"\"):\n",
    "            if ((databaseRecord[\"address\"]).upper()).replace(\" \", \"\") == ((transactionRecord[\"address\"]).upper()).replace(\" \", \"\"):\n",
    "                return True\n",
    "            else:\n",
    "                return False\n",
    "        else:\n",
    "            return False\n",
    "    else:\n",
    "        return False\n",
    "        \n",
    "\n",
    "database_record = {\"name\": \"Grisha Brenden\", \"number\": \"12395\", \"address\": \"995 Regent Dr\"}\n",
    "transaction = {\"name\": \"Grisha Brenden\", \"number\": \"12395\", \"address\": \"995 Regent Dr\"}\n",
    "\n",
    "assert match(databaseRecord=database_record, transactionRecord=transaction)"
   ]
  },
  {
   "cell_type": "markdown",
   "metadata": {
    "id": "7MfbUYymAsho"
   },
   "source": [
    "Now write tests for your own function to check for edge cases. When will the business logic fail?"
   ]
  },
  {
   "cell_type": "code",
   "execution_count": 55,
   "metadata": {
    "id": "_zSCj1hwAsJM"
   },
   "outputs": [
    {
     "data": {
      "text/plain": [
       "True"
      ]
     },
     "execution_count": 55,
     "metadata": {},
     "output_type": "execute_result"
    }
   ],
   "source": []
  },
  {
   "cell_type": "markdown",
   "metadata": {
    "id": "4w8mgp5l-8bQ"
   },
   "source": [
    "In a few minutes you will post your code on GitHub and invite the other team to try and find holes in it with their tests. Do you want to do anything to \"harden\" your code? Can you think of things the other team will miss? The team that finds the most issues with the other teams code (across the whole class) will get extra credit. Each issue is equal to one test."
   ]
  },
  {
   "cell_type": "markdown",
   "metadata": {
    "id": "TJfiV55ICPQ0"
   },
   "source": [
    "Ok now post your code on GitHub. Copy the other teams code into  your notebook. (You can also use GitHub features to do this programmatically, which is better but beyond the scope of the class).  Then run your tests on their code to see if you find issues that they did not think of."
   ]
  },
  {
   "cell_type": "markdown",
   "metadata": {
    "id": "yW2VFxOICdIx"
   },
   "source": [
    "Count up how many issues you find with the other team's code. An issue is a test that reveals a flaw in the business logic. Basically, if you find a reasonable hole in the other team's logic using a test, that counts as an issue."
   ]
  },
  {
   "cell_type": "code",
   "execution_count": null,
   "metadata": {
    "id": "ChzCTUm3DO8G"
   },
   "outputs": [],
   "source": []
  }
 ],
 "metadata": {
  "colab": {
   "provenance": []
  },
  "kernelspec": {
   "display_name": "Python 3 (ipykernel)",
   "language": "python",
   "name": "python3"
  },
  "language_info": {
   "codemirror_mode": {
    "name": "ipython",
    "version": 3
   },
   "file_extension": ".py",
   "mimetype": "text/x-python",
   "name": "python",
   "nbconvert_exporter": "python",
   "pygments_lexer": "ipython3",
   "version": "3.9.13"
  }
 },
 "nbformat": 4,
 "nbformat_minor": 1
}
