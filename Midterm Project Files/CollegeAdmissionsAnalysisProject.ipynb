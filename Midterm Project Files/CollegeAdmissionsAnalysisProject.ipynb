{
 "cells": [
  {
   "cell_type": "code",
   "execution_count": 136,
   "id": "e3c35cf6",
   "metadata": {},
   "outputs": [],
   "source": [
    "import pandas as pd\n",
    "from faker import Faker\n",
    "import random as rnd\n",
    "from typing import *"
   ]
  },
  {
   "cell_type": "code",
   "execution_count": 137,
   "id": "4b67daec",
   "metadata": {},
   "outputs": [],
   "source": [
    "# Integrate if time\n",
    "def importExcel() -> Tuple[pd.DataFrame]: \n",
    "    collegeAdmissionsDf = pd.read_excel(\"CollegeAdmissionsData.xlsx\")\n",
    "    collegeAdmissionsDf = collegeAdmissionsDf.rename(columns={\"Unnamed: 0\": \"College\"})\n",
    "\n",
    "    boulderTuitionCostDf = pd.read_excel(\"BoulderTuitionCost.xlsx\")\n",
    "    return((collegeAdmissionsDf, boulderTuitionCostDf))"
   ]
  },
  {
   "cell_type": "code",
   "execution_count": 138,
   "id": "3112cf0d",
   "metadata": {},
   "outputs": [],
   "source": [
    "class Student:\n",
    "    def __init__(self, studentFirstName, studentLastName, sTotal, actTotal, gradePointAverage, admissionType, schoolType):\n",
    "        self.studentFirstName = studentFirstName\n",
    "        self.studentLastName = studentLastName\n",
    "        self.sTotal = sTotal\n",
    "        self.actTotal = actTotal\n",
    "        self.gradePointAverage = gradePointAverage\n",
    "        self.admissionType = admissionType\n",
    "        self.schoolType = schoolType"
   ]
  },
  {
   "cell_type": "code",
   "execution_count": 139,
   "id": "0b9c1371",
   "metadata": {},
   "outputs": [],
   "source": [
    "def scoreGeneratorHelper() -> Tuple[float, float, float]:\n",
    "    scoreList = []\n",
    "    randomNumber = rnd.gauss(.85,.1)\n",
    "    if (randomNumber > .9 and (rnd.uniform(0,1) > .75)):\n",
    "        newRandomNumber = 1.1\n",
    "        totalSatScore = round(randomNumber * 1600)\n",
    "        totalActScore = round(randomNumber * 36)\n",
    "        totalGpa = round(newRandomNumber * 4.0,2)\n",
    "        scoreList.append((totalSatScore, totalActScore, totalGpa))\n",
    "    else:\n",
    "        totalSatScore = round(randomNumber * 1600)\n",
    "        totalActScore = round(randomNumber * 36)\n",
    "        totalGpa = round(randomNumber * 4.0,2)\n",
    "        if (totalSatScore+150) < 1600:\n",
    "            totalSatScore += 150\n",
    "            scoreList.append((totalSatScore, totalActScore, totalGpa))\n",
    "            return scoreList\n",
    "        scoreList.append((totalSatScore, totalActScore, totalGpa))\n",
    "    return scoreList"
   ]
  },
  {
   "cell_type": "code",
   "execution_count": 140,
   "id": "9832c021",
   "metadata": {},
   "outputs": [],
   "source": [
    "def admissionTypeHelper() -> str:\n",
    "    randomNumber = rnd.uniform(0, 1)\n",
    "    if(randomNumber > .5):\n",
    "        admissionType = \"In State\"\n",
    "        return admissionType\n",
    "    elif(randomNumber > .02):\n",
    "        admissionType = \"Out of State\"\n",
    "        return admissionType\n",
    "    else:\n",
    "        admissionType = \"International\"\n",
    "        return admissionType"
   ]
  },
  {
   "cell_type": "code",
   "execution_count": 141,
   "id": "06a67593",
   "metadata": {},
   "outputs": [],
   "source": [
    "def schoolTypeHelper() -> str:\n",
    "    randomNumber = rnd.uniform(0,1)\n",
    "    if randomNumber > .571:\n",
    "        schoolType = \"Arts and Sciences\"\n",
    "        return schoolType\n",
    "    elif randomNumber > .341:\n",
    "        schoolType = \"Engineering\"\n",
    "        return schoolType\n",
    "    elif randomNumber > .218:\n",
    "        schoolType = \"Business\"\n",
    "        return schoolType\n",
    "    elif randomNumber > 129:\n",
    "        schoolType = \"Exploratory Studies\"\n",
    "        return schoolType\n",
    "    elif randomNumber > 63:\n",
    "        schoolType = \"Media, Communication, and Information\"\n",
    "        return schoolType\n",
    "    elif randomNumber > 46:\n",
    "        schoolType = \"Environmental Design\"\n",
    "        return schoolType\n",
    "    elif randomNumber > 33:\n",
    "        schoolType = \"Education\"\n",
    "        return schoolType\n",
    "    elif randomNumber > 18:\n",
    "        schoolType = \"Law\"\n",
    "        return schoolType\n",
    "    elif randomNumber > 5:\n",
    "        schoolType = \"Music\"\n",
    "        return schoolType\n",
    "    else:\n",
    "        schoolType = \"Multi-Disciplinary\"\n",
    "        return schoolType"
   ]
  },
  {
   "cell_type": "code",
   "execution_count": 142,
   "id": "7cc3ec9e",
   "metadata": {},
   "outputs": [],
   "source": [
    "def createApplicantList() -> List[Student]:\n",
    "    studentList = []\n",
    "    fake = Faker()\n",
    "    for i in range(0,55000):\n",
    "        fakeFirstName = fake.first_name()\n",
    "        fakeLastName = fake.last_name()\n",
    "        scoreList = scoreGeneratorHelper()\n",
    "        admissionType = admissionTypeHelper()\n",
    "        schoolType = schoolTypeHelper()\n",
    "        studentObject = Student(fakeFirstName, fakeLastName, scoreList[0][0], scoreList[0][1], scoreList[0][2], admissionType, schoolType)\n",
    "        studentList.append(studentObject)\n",
    "    return(studentList)"
   ]
  },
  {
   "cell_type": "code",
   "execution_count": 143,
   "id": "6548e5fb",
   "metadata": {},
   "outputs": [],
   "source": [
    "def devryAdmissionGraderHelper(row, dataDataFrame):\n",
    "    if row[\"SAT Total\"] > dataDataFrame[\"SAT Total\"].iloc[0]:\n",
    "        if row[\"GPA\"] > dataDataFrame[\"GPA\"].iloc[0]:\n",
    "            return True\n",
    "    elif row[\"ACT Total\"] > dataDataFrame[\"ACT Total\"].iloc[0]:\n",
    "        if row[\"GPA\"] > dataDataFrame[\"GPA\"].iloc[0]:\n",
    "            return True\n",
    "    else:\n",
    "        return False"
   ]
  },
  {
   "cell_type": "code",
   "execution_count": 144,
   "id": "2e4484ef",
   "metadata": {},
   "outputs": [],
   "source": [
    "def boulderAdmissionGraderHelper(row, dataDataFrame):\n",
    "    if row[\"SAT Total\"] > dataDataFrame[\"SAT Total\"].iloc[1]:\n",
    "        if row[\"GPA\"] > dataDataFrame[\"GPA\"].iloc[1]:\n",
    "            return True\n",
    "    elif row[\"ACT Total\"] > dataDataFrame[\"ACT Total\"].iloc[1]:\n",
    "        if row[\"GPA\"] > dataDataFrame[\"GPA\"].iloc[1]:\n",
    "            return True\n",
    "    else:\n",
    "        return False"
   ]
  },
  {
   "cell_type": "code",
   "execution_count": 145,
   "id": "d54d2f7f",
   "metadata": {},
   "outputs": [],
   "source": [
    "def berkeleyAdmissionGraderHelper(row, dataDataFrame):\n",
    "    if row[\"SAT Total\"] > dataDataFrame[\"SAT Total\"].iloc[2]:\n",
    "        if row[\"GPA\"] > dataDataFrame[\"GPA\"].iloc[2]:\n",
    "            return True\n",
    "    elif row[\"ACT Total\"] > dataDataFrame[\"ACT Total\"].iloc[2]:\n",
    "        if row[\"GPA\"] > dataDataFrame[\"GPA\"].iloc[2]:\n",
    "            return True\n",
    "    else:\n",
    "        return False"
   ]
  },
  {
   "cell_type": "code",
   "execution_count": 146,
   "id": "9907cb49",
   "metadata": {},
   "outputs": [],
   "source": [
    "def harvardAdmissionGraderHelper(row, dataDataFrame):\n",
    "    if row[\"SAT Total\"] > dataDataFrame[\"SAT Total\"].iloc[3]:\n",
    "        if row[\"GPA\"] > dataDataFrame[\"GPA\"].iloc[3]:\n",
    "            return True\n",
    "    elif row[\"ACT Total\"] > dataDataFrame[\"ACT Total\"].iloc[3]:\n",
    "        if row[\"GPA\"] > dataDataFrame[\"GPA\"].iloc[3]:\n",
    "            return True\n",
    "    else:\n",
    "        return False"
   ]
  },
  {
   "cell_type": "code",
   "execution_count": 147,
   "id": "bf6971f9",
   "metadata": {},
   "outputs": [],
   "source": [
    "def admissionGrader(inputStudentList, dataDataFrame) -> pd.DataFrame:\n",
    "    studentList = []\n",
    "    for student in inputStudentList:\n",
    "        studentList.append({\"FirstName\": student.studentFirstName, \"LastName\": student.studentLastName, \"SAT Total\": student.sTotal, \"ACT Total\": student.actTotal, \"GPA\": student.gradePointAverage})\n",
    "    studentDf = pd.DataFrame(studentList)\n",
    "    studentDf[\"DeVry Admission\"] = studentDf.apply(lambda row: devryAdmissionGraderHelper(row, dataDataFrame), axis=1)\n",
    "    studentDf[\"Boulder Admission\"] = studentDf.apply(lambda row: boulderAdmissionGraderHelper(row, dataDataFrame), axis=1)\n",
    "    studentDf[\"Berkeley Admission\"] = studentDf.apply(lambda row: berkeleyAdmissionGraderHelper(row, dataDataFrame), axis=1)\n",
    "    studentDf[\"Harvard Admission\"] = studentDf.apply(lambda row: harvardAdmissionGraderHelper(row, dataDataFrame), axis=1)\n",
    "\n",
    "    return(studentDf)"
   ]
  },
  {
   "cell_type": "code",
   "execution_count": 148,
   "id": "d8316942",
   "metadata": {},
   "outputs": [],
   "source": [
    "def boulderAdmitted(inputStudentDf, inputStudentList) -> pd.DataFrame:\n",
    "    studentList = []\n",
    "    for student in inputStudentList:\n",
    "        studentList.append({\"FirstName\": student.studentFirstName, \"LastName\": student.studentLastName, \"Admission Type\": student.admissionType, \"School Type\": student.schoolType})\n",
    "    boulderStudentDf = pd.DataFrame(studentList)\n",
    "    mergedDf = pd.merge(boulderStudentDf, inputStudentDf[[\"Boulder Admission\", \"FirstName\", \"LastName\"]], on=[\"FirstName\",\"LastName\"])\n",
    "    mergedDf = mergedDf[mergedDf[\"Boulder Admission\"] == True]\n",
    "    return mergedDf"
   ]
  },
  {
   "cell_type": "code",
   "execution_count": 149,
   "id": "9728ec32",
   "metadata": {},
   "outputs": [],
   "source": [
    "# def schoolToTierHelper(row):\n",
    "#     inputSchoolType = row[\"School Type\"]\n",
    "    \n",
    "#     match inputSchoolType:\n",
    "        \n",
    "#         case \"Arts and Sciences\":\n",
    "#             return \"Tier 1\"\n",
    "#         case \"Engineering\":\n",
    "#             return \"Tier 3\"\n",
    "#         case \"Business\":\n",
    "#             return \"Tier 4\"\n",
    "#         case \"Exploratory Studies\":\n",
    "#             return \"Tier 1\"\n",
    "#         case \"Media, Communication, and Information\":\n",
    "#             return \"Tier 2\"\n",
    "#         case \"Environmental Design\":\n",
    "#             return \"Tier 2\"\n",
    "#         case \"Education\":\n",
    "#             return \"Tier 1\"\n",
    "#         case \"Law\":\n",
    "#             return \"Tier 3\"\n",
    "#         case \"Music\":\n",
    "#             return \"Tier 1\"\n",
    "#         case \"Multi-Disciplinary\":\n",
    "#             return \"Tier 3\"        \n",
    "\n",
    "# Appears that my version of python does not support match statements. Had to switch to if / elif / else instead"
   ]
  },
  {
   "cell_type": "code",
   "execution_count": 150,
   "id": "724a2c66",
   "metadata": {},
   "outputs": [],
   "source": [
    "def schoolToTierHelper(row):\n",
    "    inputSchoolType = row[\"School Type\"]\n",
    "    \n",
    "    if inputSchoolType == \"Arts and Sciences\":\n",
    "        return \"Tier 1\"\n",
    "    elif inputSchoolType == \"Engineering\":\n",
    "        return \"Tier 3\"\n",
    "    elif inputSchoolType == \"Business\":\n",
    "        return \"Tier 4\"\n",
    "    elif inputSchoolType == \"Exploratory Studies\":\n",
    "        return \"Tier 1\"\n",
    "    elif inputSchoolType == \"Media, Communication, and Information\":\n",
    "        return \"Tier 2\"\n",
    "    elif inputSchoolType == \"Environmental Design\":\n",
    "        return \"Tier 2\"\n",
    "    elif inputSchoolType == \"Education\":\n",
    "        return \"Tier 1\"\n",
    "    elif inputSchoolType == \"Law\":\n",
    "        return \"Tier 3\"\n",
    "    elif inputSchoolType == \"Music\":\n",
    "        return \"Tier 1\"\n",
    "    elif inputSchoolType == \"Multi-Disciplinary\":\n",
    "        return \"Tier 3\""
   ]
  },
  {
   "cell_type": "code",
   "execution_count": 151,
   "id": "3d07110a",
   "metadata": {},
   "outputs": [],
   "source": [
    "def tuitionCalculatorHelper(row, tuitionCostDf):\n",
    "    admission_type = row[\"Admission Type\"]\n",
    "    tier = row[\"Tier\"]\n",
    "    if admission_type == \"In State\":\n",
    "        if tier == \"Tier 1\":\n",
    "            return tuitionCostDf[\"Tier One\"].iloc[0]\n",
    "        elif tier == \"Tier 2\":\n",
    "            return tuitionCostDf[\"Tier Two\"].iloc[0]\n",
    "        elif tier == \"Tier 3\":\n",
    "            return tuitionCostDf[\"Tier Three\"].iloc[0]\n",
    "        elif tier == \"Tier 4\":\n",
    "            return tuitionCostDf[\"Tier Four\"].iloc[0]\n",
    "    elif admission_type == \"Out of State\":\n",
    "        if tier == \"Tier 1\":\n",
    "            return tuitionCostDf[\"Tier One\"].iloc[1]\n",
    "        elif tier == \"Tier 2\":\n",
    "            return tuitionCostDf[\"Tier Two\"].iloc[1]\n",
    "        elif tier == \"Tier 3\":\n",
    "            return tuitionCostDf[\"Tier Three\"].iloc[1]\n",
    "        elif tier == \"Tier 4\":\n",
    "            return tuitionCostDf[\"Tier Four\"].iloc[1]\n",
    "    elif admission_type == \"International\":\n",
    "        if tier == \"Tier 1\":\n",
    "            return tuitionCostDf[\"Tier One\"].iloc[2]\n",
    "        elif tier == \"Tier 2\":\n",
    "            return tuitionCostDf[\"Tier Two\"].iloc[2]\n",
    "        elif tier == \"Tier 3\":\n",
    "            return tuitionCostDf[\"Tier Three\"].iloc[2]\n",
    "        elif tier == \"Tier 4\":\n",
    "            return tuitionCostDf[\"Tier Four\"].iloc[2]"
   ]
  },
  {
   "cell_type": "code",
   "execution_count": 152,
   "id": "00141dab",
   "metadata": {},
   "outputs": [],
   "source": [
    "def totalBudgetCalculator(boulderDataFrame, tuitionCostDf) -> Tuple[pd.DataFrame, int]:\n",
    "    boulderDataFrame = boulderDataFrame.sample(7106, random_state=42)\n",
    "    boulderDataFrame[\"Tier\"] = boulderDataFrame.apply(schoolToTierHelper, axis=1)\n",
    "    boulderDataFrame[\"Cost\"] = boulderDataFrame.apply(lambda row: tuitionCalculatorHelper(row, tuitionCostDf), axis=1)\n",
    "    return ((boulderDataFrame, boulderDataFrame[\"Cost\"].sum()))"
   ]
  },
  {
   "cell_type": "code",
   "execution_count": null,
   "id": "4070cf12",
   "metadata": {},
   "outputs": [],
   "source": []
  },
  {
   "cell_type": "code",
   "execution_count": 154,
   "id": "46c778d4",
   "metadata": {},
   "outputs": [
    {
     "name": "stdout",
     "output_type": "stream",
     "text": [
      "164774093\n"
     ]
    }
   ],
   "source": [
    "def main():\n",
    "    dataDataFrameList = importExcel()\n",
    "    studentList = createApplicantList()\n",
    "    studentDataFrame = admissionGrader(studentList, dataDataFrameList[0])\n",
    "    boulderDataFrame = boulderAdmitted(studentDataFrame, studentList)\n",
    "    budgetUnpack = totalBudgetCalculator(boulderDataFrame, dataDataFrameList[1])\n",
    "    print(budgetUnpack[1])\n",
    "\n",
    "main()"
   ]
  },
  {
   "cell_type": "code",
   "execution_count": null,
   "id": "47e1b95a",
   "metadata": {},
   "outputs": [],
   "source": []
  },
  {
   "cell_type": "code",
   "execution_count": null,
   "id": "4f52ea96",
   "metadata": {},
   "outputs": [],
   "source": []
  },
  {
   "cell_type": "code",
   "execution_count": null,
   "id": "65461032",
   "metadata": {},
   "outputs": [],
   "source": []
  }
 ],
 "metadata": {
  "kernelspec": {
   "display_name": "Python 3 (ipykernel)",
   "language": "python",
   "name": "python3"
  },
  "language_info": {
   "codemirror_mode": {
    "name": "ipython",
    "version": 3
   },
   "file_extension": ".py",
   "mimetype": "text/x-python",
   "name": "python",
   "nbconvert_exporter": "python",
   "pygments_lexer": "ipython3",
   "version": "3.9.16"
  }
 },
 "nbformat": 4,
 "nbformat_minor": 5
}
