{
 "cells": [
  {
   "cell_type": "code",
   "execution_count": 3,
   "metadata": {
    "id": "RLU3qkj24COk"
   },
   "outputs": [
    {
     "data": {
      "text/plain": [
       "4.0"
      ]
     },
     "execution_count": 3,
     "metadata": {},
     "output_type": "execute_result"
    }
   ],
   "source": [
    "'''\n",
    "This code builds a dataset of engagement with two\n",
    "kinds of ads: those that focus on price and those\n",
    "that focus on nutrition. It then calulates the \n",
    "mean engagement score among those who saw the \n",
    "nutrition ad. It ignores data where no\n",
    "engagement score is available.\n",
    "'''\n",
    "import pandas as pd \n",
    "\n",
    "data = [{\"ad\": \"price\", \"engagement\": 8, \"age\": 29}]\n",
    "data.append({\"ad\": \"nutrition\", \"engagement\": 4, \"age\": 17})\n",
    "data.append({\"ad\": \"price\", \"engagement\": 20, \"age\": 22})\n",
    "data.append({\"ad\": \"price\", \"engagement\": 18, \"age\": 70})\n",
    "data.append({\"ad\": \"nutrition\", \"engagement\": None, \"age\": 54})\n",
    "\n",
    "df = pd.DataFrame(data)\n",
    "\n",
    "df = df[df[\"ad\"] == \"nutrition\"]\n",
    "df = df.dropna()\n",
    "\n",
    "df[\"engagement\"].mean()"
   ]
  }
 ],
 "metadata": {
  "colab": {
   "provenance": []
  },
  "kernelspec": {
   "display_name": "Python 3 (ipykernel)",
   "language": "python",
   "name": "python3"
  },
  "language_info": {
   "codemirror_mode": {
    "name": "ipython",
    "version": 3
   },
   "file_extension": ".py",
   "mimetype": "text/x-python",
   "name": "python",
   "nbconvert_exporter": "python",
   "pygments_lexer": "ipython3",
   "version": "3.9.13"
  }
 },
 "nbformat": 4,
 "nbformat_minor": 1
}
