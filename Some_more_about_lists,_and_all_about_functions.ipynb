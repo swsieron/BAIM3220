{
 "cells": [
  {
   "cell_type": "markdown",
   "metadata": {
    "id": "K0x4Jpukrcoc"
   },
   "source": [
    "### Review from Tuesday\n",
    "\n",
    "- Lists"
   ]
  },
  {
   "cell_type": "code",
   "execution_count": 12,
   "metadata": {
    "colab": {
     "base_uri": "https://localhost:8080/"
    },
    "id": "b9dKhlvSLUEA",
    "outputId": "d1ae870a-5a04-4196-cb2d-226cd1908c75"
   },
   "outputs": [
    {
     "data": {
      "text/plain": [
       "False"
      ]
     },
     "execution_count": 12,
     "metadata": {},
     "output_type": "execute_result"
    }
   ],
   "source": [
    "# how to check if something is in a List\n",
    "\n",
    "\n",
    "# This is what I called the list when I started to make the notebook. But it is BAD! Why?\n",
    "L = [1, 2, 3]\n",
    "\n",
    "# Let's try that again ... \n",
    "three_numbers = [1, 2, 3]   \n",
    "\n",
    "2 in three_numbers\n",
    "3 in three_numbers\n",
    "8 in three_numbers"
   ]
  },
  {
   "cell_type": "markdown",
   "metadata": {
    "id": "1ArRQSN0LsX-"
   },
   "source": [
    "- Write a function to count the number of unique data types in a list.\n",
    "- Hint: use \"in\""
   ]
  },
  {
   "cell_type": "code",
   "execution_count": 18,
   "metadata": {
    "id": "R0Sb80kvzdqW"
   },
   "outputs": [
    {
     "data": {
      "text/plain": [
       "4"
      ]
     },
     "execution_count": 18,
     "metadata": {},
     "output_type": "execute_result"
    }
   ],
   "source": [
    "from typing import List\n",
    "def count_number_of_unique_data_types(a_list: List) -> int:\n",
    "    counter = 0\n",
    "    typesAdded = []\n",
    "    for element in a_list:\n",
    "        if type(element) not in typesAdded:\n",
    "            typesAdded.append(type(element))\n",
    "            counter = counter+1\n",
    "    return counter\n",
    "         \n",
    "\n",
    "count_number_of_unique_data_types([bool, \"sedsd\", 4.32323, 2])"
   ]
  },
  {
   "cell_type": "markdown",
   "metadata": {
    "id": "3HMhRvH31RPD"
   },
   "source": [
    "### Unpacking a list\n",
    "\n",
    "- Python has some neat syntax that allows you to \"unpack\" a list into variables."
   ]
  },
  {
   "cell_type": "code",
   "execution_count": null,
   "metadata": {
    "id": "sjgEhZ0i1PvP"
   },
   "outputs": [],
   "source": [
    "cat = ['fat', 'orange', 'loud']\n",
    "size, color, disposition = cat"
   ]
  },
  {
   "cell_type": "markdown",
   "metadata": {
    "id": "T9PxqX6_JPbO"
   },
   "source": [
    "### Sets \n",
    "\n",
    "Checking if something is in a list over an over gets annoying. Sets can help. More broadly, picking good data types can make your life way easier as a programmer. Pay attention to types! It's half the battle."
   ]
  },
  {
   "cell_type": "markdown",
   "metadata": {
    "id": "U2IB33zOMd9I"
   },
   "source": [
    "- A set is an unordered collections of objects\n",
    "- You create a set like this"
   ]
  },
  {
   "cell_type": "code",
   "execution_count": null,
   "metadata": {
    "id": "KEO69eB6Jdu2"
   },
   "outputs": [],
   "source": [
    "animals = set()\n",
    "animals.append(\"dog\")\n",
    "animals.append(\"cat\")\n",
    "animals.append(\"dog\")"
   ]
  },
  {
   "cell_type": "markdown",
   "metadata": {
    "id": "pitMPEs1Jmt3"
   },
   "source": [
    "- What do you think is in the set above? Try it!"
   ]
  },
  {
   "cell_type": "code",
   "execution_count": null,
   "metadata": {
    "id": "cp492jI1JrHW"
   },
   "outputs": [],
   "source": [
    "# Your code here"
   ]
  },
  {
   "cell_type": "markdown",
   "metadata": {
    "id": "5yZ34f8dM4Fi"
   },
   "source": [
    "- What happens if you pass a list to the function set?"
   ]
  },
  {
   "cell_type": "code",
   "execution_count": null,
   "metadata": {
    "id": "zEdTjejAM1LV"
   },
   "outputs": [],
   "source": [
    "set([\"dog\", \"cat\", \"dog\"])   # what will happen ?"
   ]
  },
  {
   "cell_type": "code",
   "execution_count": null,
   "metadata": {
    "id": "ubUiGwimWwov"
   },
   "outputs": [],
   "source": [
    "# You can go the other way too \n",
    "\n",
    "list(animals)"
   ]
  },
  {
   "cell_type": "markdown",
   "metadata": {
    "id": "yzEWNvKLM9x1"
   },
   "source": [
    "Lists and sets can both be described as a **collection**. A collection is like it sounds, a collection of things."
   ]
  },
  {
   "cell_type": "code",
   "execution_count": null,
   "metadata": {
    "id": "qcvIETS3Nsxb"
   },
   "outputs": [],
   "source": [
    "# the syntax to make a set is a little different \n",
    "\n",
    "majors = set()\n",
    "majors.add(\"Biology\")\n",
    "majors.add(\"English\")\n",
    "majors.add(\"Business\")"
   ]
  },
  {
   "cell_type": "markdown",
   "metadata": {
    "id": "kbGTkTAuN8pC"
   },
   "source": [
    "Try writing the same as above but as a list"
   ]
  },
  {
   "cell_type": "code",
   "execution_count": null,
   "metadata": {
    "id": "Y1gvFgj_N-6W"
   },
   "outputs": [],
   "source": [
    "# Your code here"
   ]
  },
  {
   "cell_type": "markdown",
   "metadata": {
    "id": "vH9euxRRKAtY"
   },
   "source": [
    "### Interview grading \n",
    "\n",
    "For interview grading today, try correcting the pair sum count code from Tuesday so that it returns the correct answer. Hint: use sets. \n",
    "\n",
    "This is also a good chance to learn about some of practical tools in modern programming. \n",
    "\n",
    "1. Instead of turning in text to Canvas work with a partner to copy your code into a `.py` file. A `.py` file is a text file that ends in `.py` and runs python code. It stores Python code that runs. You should do this using a text editor like Sublime Text or VSCode. A text editor edits text files.\n",
    "2. One person from your pair should make a repo on GitHub, invite their partner to join, and upload the pairs `.py` file to the repo. Turn in a link to your GitHub repo on Canvas."
   ]
  },
  {
   "cell_type": "code",
   "execution_count": 28,
   "metadata": {
    "colab": {
     "base_uri": "https://localhost:8080/"
    },
    "id": "BOPiu7QyuQXK",
    "outputId": "99c67888-1182-4b87-e07d-63e175fec41f"
   },
   "outputs": [
    {
     "data": {
      "text/plain": [
       "2"
      ]
     },
     "execution_count": 28,
     "metadata": {},
     "output_type": "execute_result"
    }
   ],
   "source": [
    "from typing import List  # this is needed for one of the type hints \n",
    "\n",
    "\n",
    "def pair_sum_count(numbers: List[int], A: int):\n",
    "    '''\n",
    "    Count the unique pairs in numbers that add up to A\n",
    "\n",
    "    Inputs:\n",
    "        - numbers: a list of numbers\n",
    "        - A: a number\n",
    "    Output:\n",
    "        - the count of unique pairs in the numbers list that add up to A\n",
    "    '''\n",
    "    counter = 0\n",
    "    numbersList = set()\n",
    "    for number_one in numbers:\n",
    "        for number_two in numbers:\n",
    "            if number_one + number_two == A:\n",
    "                if number_one not in numbersList and number_two not in numbersList:\n",
    "                    numbersList.add(number_one)\n",
    "                    numbersList.add(number_two)\n",
    "                    counter += 1\n",
    "    return counter\n",
    "\n",
    "pair_sum_count([1,2,3,4,5,6,7], 5)"
   ]
  },
  {
   "cell_type": "markdown",
   "metadata": {
    "id": "15zSNy_Tw-hv"
   },
   "source": [
    "#### Galaxy brain addition\n",
    "\n",
    "- [Galaxy Brain](https://knowyourmeme.com/memes/galaxy-brain)\n",
    "- Do the youth still use Galaxy Brain?"
   ]
  },
  {
   "cell_type": "markdown",
   "metadata": {
    "id": "C27SjALqv2wx"
   },
   "source": [
    "- What is addition? \n",
    "- No really, like what is addition?\n",
    "- What does it mean to add two lists?\n",
    "- What do you think will happen? "
   ]
  },
  {
   "cell_type": "code",
   "execution_count": null,
   "metadata": {
    "id": "xpfJ52GPv3mu"
   },
   "outputs": [],
   "source": [
    "# test your hypothesis here"
   ]
  },
  {
   "cell_type": "markdown",
   "metadata": {
    "id": "3VvaaAS3vUkg"
   },
   "source": [
    "- Can you make a list of lists in Python? Try it!"
   ]
  },
  {
   "cell_type": "code",
   "execution_count": null,
   "metadata": {
    "id": "SnlG2KNPvVnq"
   },
   "outputs": [],
   "source": [
    "# your code here"
   ]
  },
  {
   "cell_type": "markdown",
   "metadata": {
    "id": "9C6M9tQHvXcG"
   },
   "source": [
    "- Getting the length of a list"
   ]
  },
  {
   "cell_type": "code",
   "execution_count": null,
   "metadata": {
    "colab": {
     "base_uri": "https://localhost:8080/"
    },
    "id": "8k2Zkr_30kC0",
    "outputId": "cd7afa83-ff29-446b-aed1-8c4b4b4be341"
   },
   "outputs": [
    {
     "data": {
      "text/plain": [
       "4"
      ]
     },
     "execution_count": 3,
     "metadata": {},
     "output_type": "execute_result"
    }
   ],
   "source": [
    "spam = [\"cat\", \"bat\", \"dog\", \"cat\"]\n",
    "len(spam) # get the length of spam"
   ]
  },
  {
   "cell_type": "markdown",
   "metadata": {
    "id": "nvoVB6nsThOP"
   },
   "source": [
    "### Quick aside: format strings"
   ]
  },
  {
   "cell_type": "code",
   "execution_count": null,
   "metadata": {
    "colab": {
     "base_uri": "https://localhost:8080/",
     "height": 35
    },
    "id": "UHRWfMFiTi_f",
    "outputId": "a232870e-0221-4b62-874a-825cc7e14235"
   },
   "outputs": [
    {
     "data": {
      "application/vnd.google.colaboratory.intrinsic+json": {
       "type": "string"
      },
      "text/plain": [
       "'Hi, Fausta'"
      ]
     },
     "execution_count": 11,
     "metadata": {},
     "output_type": "execute_result"
    }
   ],
   "source": [
    "name = \"Fausta\"\n",
    "template = f\"Hi, {name}\" # notice the f\n",
    "template"
   ]
  },
  {
   "cell_type": "code",
   "execution_count": null,
   "metadata": {
    "id": "hngK0wDxTvFf"
   },
   "outputs": [],
   "source": [
    "## Write a format string that prints a students GPA \n",
    "\n",
    "# YOUR CODE HERE\n",
    "\n",
    "# Why is this better than concatenating a number and a string?"
   ]
  },
  {
   "cell_type": "markdown",
   "metadata": {
    "id": "EaXfAOAZghQQ"
   },
   "source": [
    "Quick aside: division"
   ]
  },
  {
   "cell_type": "code",
   "execution_count": null,
   "metadata": {
    "colab": {
     "base_uri": "https://localhost:8080/"
    },
    "id": "xmks0xlTggtW",
    "outputId": "080f2178-99bc-4ac8-b1cd-3a45ea676116"
   },
   "outputs": [
    {
     "data": {
      "text/plain": [
       "0.75"
      ]
     },
     "execution_count": 15,
     "metadata": {},
     "output_type": "execute_result"
    }
   ],
   "source": [
    "4/2 == 2\n",
    "\n",
    "3/4"
   ]
  },
  {
   "cell_type": "markdown",
   "metadata": {
    "id": "wO3CXaUPg7GK"
   },
   "source": [
    "Quick aside: integers and floats"
   ]
  },
  {
   "cell_type": "code",
   "execution_count": null,
   "metadata": {
    "colab": {
     "base_uri": "https://localhost:8080/"
    },
    "id": "XCaHVPYgg9e_",
    "outputId": "1a25e4cc-17ec-48d7-f5c2-f279ff76598d"
   },
   "outputs": [
    {
     "data": {
      "text/plain": [
       "float"
      ]
     },
     "execution_count": 16,
     "metadata": {},
     "output_type": "execute_result"
    }
   ],
   "source": [
    "a = 4 \n",
    "type(a)\n",
    "\n",
    "b = 6.2\n",
    "type(b)"
   ]
  },
  {
   "cell_type": "code",
   "execution_count": null,
   "metadata": {
    "colab": {
     "base_uri": "https://localhost:8080/"
    },
    "id": "J1C2LVWzhAzz",
    "outputId": "73d57473-ed0a-4c13-cb2f-7d776a703e2e"
   },
   "outputs": [
    {
     "data": {
      "text/plain": [
       "False"
      ]
     },
     "execution_count": 17,
     "metadata": {},
     "output_type": "execute_result"
    }
   ],
   "source": [
    "b.is_integer()"
   ]
  },
  {
   "cell_type": "code",
   "execution_count": null,
   "metadata": {
    "colab": {
     "base_uri": "https://localhost:8080/"
    },
    "id": "1o51J1ZMhDJO",
    "outputId": "820fc22d-6daa-486d-8c29-9647fa77c6b4"
   },
   "outputs": [
    {
     "data": {
      "text/plain": [
       "False"
      ]
     },
     "execution_count": 18,
     "metadata": {},
     "output_type": "execute_result"
    }
   ],
   "source": [
    "(8/3).is_integer()"
   ]
  },
  {
   "cell_type": "markdown",
   "metadata": {
    "id": "vKaWgJi8QD78"
   },
   "source": [
    "### Functions\n",
    "\n",
    "- We've seen functions for a few weeks but never really focused on them directly.\n",
    "- This is because you need to know how to use functions to get started.\n",
    "- In programming, this is sometimed described as a \"head first\" approach, because you learn to swim by being tossed head first into the pool. \n",
    "- It's a good way to learn fast, but now it is time to take a slower look at functions"
   ]
  },
  {
   "cell_type": "markdown",
   "metadata": {
    "id": "4fXEDXmXQm1F"
   },
   "source": [
    "### Why functions?"
   ]
  },
  {
   "cell_type": "code",
   "execution_count": null,
   "metadata": {
    "colab": {
     "base_uri": "https://localhost:8080/"
    },
    "id": "IR9w4GHgQpkh",
    "outputId": "9df3fc2e-1acb-4988-8c6e-96f688b05abd"
   },
   "outputs": [
    {
     "name": "stdout",
     "output_type": "stream",
     "text": [
      "Hi Fausta\n",
      "Welcome to INFO 2430\n",
      "Hi Jeremy\n",
      "Welcome to INFO 2430\n",
      "Hi Yanick\n",
      "Welcome to INFO 2430\n"
     ]
    }
   ],
   "source": [
    "print(\"Hi Fausta\")\n",
    "print(\"Welcome to INFO 2430\")\n",
    "\n",
    "\n",
    "print(\"Hi Jeremy\")\n",
    "print(\"Welcome to INFO 2430\")\n",
    "\n",
    "\n",
    "print(\"Hi Yanick\")\n",
    "print(\"Welcome to INFO 2430\")"
   ]
  },
  {
   "cell_type": "code",
   "execution_count": null,
   "metadata": {
    "id": "ErI298ApQs9Z"
   },
   "outputs": [],
   "source": [
    "def greet(name: str) -> str:\n",
    "    print(f\"Hi {name}\")\n",
    "    print(\"Welcome to INFO 2430\")\n",
    "    # This function is missing something. \n",
    "    # Finish the funciton"
   ]
  },
  {
   "cell_type": "markdown",
   "metadata": {
    "id": "d8GiCjNoR6Gg"
   },
   "source": [
    "### Fun with terms\n",
    "\n",
    "- It is easy to get mixed up when talking about functions \n",
    "- Keeping your terms straight helps a lot\n",
    "\n",
    "- **Define**\n",
    "- **Call**\n",
    "- **Pass**\n",
    "- **Parameter**\n",
    "- **Argument**\n",
    "\n",
    "\n",
    "- Use these terms for the function above"
   ]
  },
  {
   "cell_type": "markdown",
   "metadata": {
    "id": "yL3poJ8_SwWp"
   },
   "source": [
    "### What is return doing?\n",
    "\n",
    "- This is how I grade your homeworks ... "
   ]
  },
  {
   "cell_type": "code",
   "execution_count": null,
   "metadata": {
    "id": "DlqoyDBIS1j-"
   },
   "outputs": [],
   "source": [
    "def add_one(number: int) -> int:\n",
    "  return number + 1\n",
    "\n",
    "a = add_one(2)\n",
    "b = add_one(a)\n",
    "c = add_one(b)\n",
    "\n",
    "# what is c?"
   ]
  },
  {
   "cell_type": "markdown",
   "metadata": {
    "id": "dmhRBAd2TIs-"
   },
   "source": [
    "### Keyword arguments\n",
    "\n",
    "- When **calling** a function you can use keyword arguments\n",
    "- I like keyword arguments\n",
    "- It prevents getting mixed up"
   ]
  },
  {
   "cell_type": "code",
   "execution_count": null,
   "metadata": {
    "colab": {
     "base_uri": "https://localhost:8080/"
    },
    "id": "jJAE3UG-TNOy",
    "outputId": "1f12cc78-d56f-4330-99ed-98ca6961341f"
   },
   "outputs": [
    {
     "name": "stdout",
     "output_type": "stream",
     "text": [
      "Hi Joe\n",
      "Welcome to INFO 3220\n",
      "Hi Joe\n",
      "Welcome to INFO 3220\n"
     ]
    }
   ],
   "source": [
    "def greet(name: str, course: str): \n",
    "    print(f\"Hi {name}\")\n",
    "    print(f\"Welcome to INFO {course}\")\n",
    "\n",
    "greet(name=\"Joe\", course=\"3220\")\n",
    "\n",
    "greet(course=\"3220\", name=\"Joe\")"
   ]
  },
  {
   "cell_type": "code",
   "execution_count": null,
   "metadata": {
    "id": "gQ2dEWIIhZfx"
   },
   "outputs": [],
   "source": []
  }
 ],
 "metadata": {
  "colab": {
   "provenance": []
  },
  "kernelspec": {
   "display_name": "Python 3 (ipykernel)",
   "language": "python",
   "name": "python3"
  },
  "language_info": {
   "codemirror_mode": {
    "name": "ipython",
    "version": 3
   },
   "file_extension": ".py",
   "mimetype": "text/x-python",
   "name": "python",
   "nbconvert_exporter": "python",
   "pygments_lexer": "ipython3",
   "version": "3.9.13"
  }
 },
 "nbformat": 4,
 "nbformat_minor": 1
}
